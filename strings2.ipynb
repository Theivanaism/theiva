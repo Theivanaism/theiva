{
 "cells": [
  {
   "cell_type": "code",
   "execution_count": 42,
   "metadata": {},
   "outputs": [
    {
     "name": "stdout",
     "output_type": "stream",
     "text": [
      "True\n",
      "False\n"
     ]
    }
   ],
   "source": [
    "#startswith()- returns true if starts with a specified string\n",
    "s=\"Have a nice day\"\n",
    "print(s.startswith(\"Have\"))\n",
    "print(s.startswith(\"have\"))\n",
    "\n",
    "\n"
   ]
  },
  {
   "cell_type": "code",
   "execution_count": 43,
   "metadata": {},
   "outputs": [
    {
     "name": "stdout",
     "output_type": "stream",
     "text": [
      "True\n",
      "False\n"
     ]
    }
   ],
   "source": [
    "#endsswith()- returns true if endswith a specified string\n",
    "s=\"Have a nice day! \"\n",
    "print(s.endswith('day! '))\n",
    "print(s.endswith('day'))\n"
   ]
  },
  {
   "cell_type": "code",
   "execution_count": 44,
   "metadata": {},
   "outputs": [
    {
     "name": "stdout",
     "output_type": "stream",
     "text": [
      "('in', 'put', ' and outputs of program')\n",
      "no of parts= 3\n"
     ]
    }
   ],
   "source": [
    "#partition\n",
    "s=\"input and outputs of program\"\n",
    "s1=s.partition('put')\n",
    "print(s1)\n",
    "print('no of parts=',len(s1))\n",
    "\n"
   ]
  },
  {
   "cell_type": "code",
   "execution_count": 45,
   "metadata": {},
   "outputs": [
    {
     "name": "stdout",
     "output_type": "stream",
     "text": [
      "7\n"
     ]
    }
   ],
   "source": [
    "#index()-returns the index of a particular char/string in source string\n",
    "#throws error if not found\n",
    "s=\"Have a nice day\"\n",
    "print(s.index('ni'))\n",
    "#print(s.index('nc'))#will throw an error\n",
    "\n"
   ]
  },
  {
   "cell_type": "code",
   "execution_count": 46,
   "metadata": {},
   "outputs": [
    {
     "name": "stdout",
     "output_type": "stream",
     "text": [
      "Length  of original string= 27\n",
      "removing both leading and trailing blank sapaces:\n",
      "Stay safe.Happy stay\n",
      "Length of truncated string= 20\n",
      "removing leading  blank sapaces:\n",
      "Stay safe.Happy stay     \n",
      "Length of left trimmed string= 25\n",
      "removing trailing  blank sapaces:\n",
      "  Stay safe.Happy stay\n",
      "Length of right trimmed string= 22\n"
     ]
    }
   ],
   "source": [
    "#to remove or delete leading and trailing blank spaces from a string\n",
    "s=\"  Stay safe.Happy stay     \"\n",
    "print('Length  of original string=',len(s))\n",
    "print('removing both leading and trailing blank sapaces:')\n",
    "print(s.strip())#deletes leading and trailing blank spaces\n",
    "print('Length of truncated string=',len(s.strip())) \n",
    "print('removing leading  blank sapaces:')\n",
    "print(s.lstrip())\n",
    "print('Length of left trimmed string=',len(s.lstrip()))#deletes leading  blank spaces\n",
    "print('removing trailing  blank sapaces:')\n",
    "print(s.rstrip())\n",
    "print('Length of right trimmed string=',len(s.rstrip()))#deletes trailing blank spaces"
   ]
  },
  {
   "cell_type": "code",
   "execution_count": 47,
   "metadata": {},
   "outputs": [
    {
     "name": "stdout",
     "output_type": "stream",
     "text": [
      "A**l**l** **i**s** **w**e**l**l\n"
     ]
    }
   ],
   "source": [
    "#join()-\n",
    "#s2.join(s1) -s2 joins s1 at the end of every character of s1 excluding last character\n",
    "s1=\"All is well\"\n",
    "s2='**'\n",
    "print(s2.join(s1))"
   ]
  },
  {
   "cell_type": "code",
   "execution_count": 48,
   "metadata": {},
   "outputs": [
    {
     "name": "stdout",
     "output_type": "stream",
     "text": [
      "['one', 'two', 'three', 'four'] <class 'list'> no. of split words= 4\n",
      "['on', ' two thr', '', ' four'] no of split words= 4\n"
     ]
    }
   ],
   "source": [
    "#split()-returns a list of split words after splitting at the given string\n",
    "s=\"one two three four\"\n",
    "s1=s.split()# by defualt splits at space and s1 is a list\n",
    "print(s1,type(s1),'no. of split words=',len(s1))\n",
    "s2=s.split('e')\n",
    "print(s2,'no of split words=',len(s2))\n",
    "\n",
    "\n"
   ]
  },
  {
   "cell_type": "code",
   "execution_count": 49,
   "metadata": {},
   "outputs": [
    {
     "name": "stdout",
     "output_type": "stream",
     "text": [
      "program\n",
      "p\n",
      "r\n",
      "o\n",
      "g\n",
      "r\n",
      "a\n",
      "m\n",
      "p\n",
      "r\n",
      "o\n",
      "g\n",
      "r\n",
      "a\n",
      "m\n",
      "p\n",
      "r\n",
      "o\n",
      "g\n",
      "r\n",
      "a\n",
      "m\n"
     ]
    }
   ],
   "source": [
    "# to access each character of a string from beginning till end\n",
    "s=\"program\"\n",
    "print(s)\n",
    "#fetching each character of s with its index using  for loop \n",
    "for i in range(len(s)):# first to last- i index\n",
    "   print(s[i])\n",
    "#fething each character of s  directly as a character without its index using  for loop \n",
    "for i in s:\n",
    "    print(i)\n",
    "#fetching each character of s with its index using  while loop\n",
    "    i=0\n",
    "while i<len(s):\n",
    "    print(s[i])\n",
    "    i=i+1\n",
    "\n"
   ]
  },
  {
   "cell_type": "code",
   "execution_count": 50,
   "metadata": {},
   "outputs": [
    {
     "name": "stdout",
     "output_type": "stream",
     "text": [
      "enter a string:welcome\n",
      "Method1 using slice:\n",
      "emoclew\n",
      "Method 2: using for loop:\n",
      "e\n",
      "m\n",
      "o\n",
      "c\n",
      "l\n",
      "e\n",
      "w\n",
      "Method 3: using while  loop:\n",
      "e\n",
      "m\n",
      "o\n",
      "c\n",
      "l\n",
      "e\n",
      "w\n"
     ]
    }
   ],
   "source": [
    "#to access each character from end till beginning ie reverser order\n",
    "s=input(\"enter a string:\")#welcome\n",
    "print('Method1 using slice:')\n",
    "print(s[::-1])\n",
    "print('Method 2: using for loop:')\n",
    "for i in range(len(s)-1,-1,-1):\n",
    "    print(s[i])\n",
    "print('Method 3: using while  loop:')\n",
    "i=len(s)-1\n",
    "while i>=0:\n",
    "    print(s[i])\n",
    "    i=i-1 "
   ]
  },
  {
   "cell_type": "code",
   "execution_count": null,
   "metadata": {},
   "outputs": [],
   "source": [
    "#prog1\n",
    "#to accept a string and print the number of occurences of\n",
    "#another string in the given given string\n",
    "s1=input(\"enter the first string:\")#All the best\n",
    "s2=input(\"enter the second string:\")#he\n",
    "k=s1.count(s2)\n",
    "if k==0:\n",
    "    print(s2,' is not present in',s1)\n",
    "else:\n",
    "    print('no of occureneces of', s2, 'in',s1,'=',k)\n"
   ]
  },
  {
   "cell_type": "code",
   "execution_count": 51,
   "metadata": {},
   "outputs": [
    {
     "name": "stdout",
     "output_type": "stream",
     "text": [
      "enter a string:This is a STRING\n",
      "Method1 : using function swapcase(),toggled case:\n",
      "tHIS IS A string\n",
      "Method2 : using for loop without using function:\n",
      "tHIS IS A string\n"
     ]
    }
   ],
   "source": [
    "#prog2\n",
    "#to toggle case\n",
    "s1=input(\"enter a string:\")#'One TWO three45'\n",
    "#output string should be oNE two THREE45\n",
    "s2=\"\"\n",
    "print('Method1 : using function swapcase(),toggled case:')\n",
    "print(s1.swapcase())\n",
    "print('Method2 : using for loop without using function:')\n",
    "for i in range(len(s1)):\n",
    "    if s1[i].isupper():\n",
    "        s2=s2+s1[i].lower()\n",
    "    elif s1[i].islower():\n",
    "        s2=s2+s1[i].upper()\n",
    "    else:\n",
    "        s2=s2+s1[i]\n",
    "print(s2)\n",
    "\n"
   ]
  },
  {
   "cell_type": "code",
   "execution_count": 52,
   "metadata": {},
   "outputs": [
    {
     "name": "stdout",
     "output_type": "stream",
     "text": [
      "enter a string:This is the best\n",
      "the\n",
      "1\n"
     ]
    }
   ],
   "source": [
    "#prog3\n",
    "#to print and count the number of words  \n",
    "# beginning with T or t and ending with e\n",
    "s=input(\"enter a string:\")#\"These are the three things\"\n",
    "k=0\n",
    "for i in s.split():# i rep word\n",
    "    if (i[0] in 'Tt') and i[-1]=='e':\n",
    "        print(i)\n",
    "        k=k+1\n",
    "print(k)"
   ]
  },
  {
   "cell_type": "code",
   "execution_count": 54,
   "metadata": {},
   "outputs": [
    {
     "name": "stdout",
     "output_type": "stream",
     "text": [
      "enter a stringtamil\n",
      "method1-using slice:\n",
      "reverse of the given word is: limat\n",
      "tamil is not a palindrome\n",
      "method2-using for loop:\n",
      "reverse of the given word is: limat\n",
      "tamil is not a palindrome\n"
     ]
    }
   ],
   "source": [
    "#prog4\n",
    "#to generate the reverse of a word and check if it is a palindrome\n",
    "s1=input(\"enter a string\")\n",
    "print('method1-using slice:')\n",
    "s2=s1[::-1]\n",
    "print('reverse of the given word is:',s2)\n",
    "if s1==s2:\n",
    "    print(s1,'is a palindrome')\n",
    "else:\n",
    "     print(s1,'is not a palindrome')\n",
    "\n",
    "print('method2-using for loop:')\n",
    "s2=\"\"\n",
    "for i in range(len(s1)-1,-1,-1):#last to 1\n",
    "    s2=s2+s1[i] \n",
    "print('reverse of the given word is:',s2)\n",
    "if s1==s2:\n",
    "    print(s1,'is a palindrome')\n",
    "else:\n",
    "     print(s1,'is not a palindrome')\n",
    "\n",
    "\n",
    "    "
   ]
  },
  {
   "cell_type": "code",
   "execution_count": 55,
   "metadata": {},
   "outputs": [
    {
     "name": "stdout",
     "output_type": "stream",
     "text": [
      "enter a string:how Are you?\n",
      "count of vowels= 5\n",
      "new string= h*w *r* y**?\n"
     ]
    }
   ],
   "source": [
    "#prog5\n",
    "#to count all vowels present in a string and replace each vowel with a * and print\n",
    "s=input(\"enter a string:\")#All the best\n",
    "k=0\n",
    "s1=\"\"\n",
    "for i in range(len(s)):\n",
    "    if s[i].lower() in 'aeiou':\n",
    "        k=k+1\n",
    "        s1=s1+'*'\n",
    "    else:\n",
    "        s1=s1+s[i]\n",
    "print('count of vowels=',k)\n",
    "print('new string=',s1)    \n",
    "        \n"
   ]
  },
  {
   "cell_type": "code",
   "execution_count": 56,
   "metadata": {},
   "outputs": [
    {
     "name": "stdout",
     "output_type": "stream",
     "text": [
      "enter string1All the best\n",
      "enter string2he\n",
      "Method1-using count()\n",
      "1\n",
      "method-2 using coding without using count()\n",
      "1\n"
     ]
    }
   ],
   "source": [
    "#prog1\n",
    "#to accept a string and print the number of occurences of\n",
    "#another string in the given given string\n",
    "s1=input(\"enter string1\")#\"All the best\"\n",
    "s2=input(\"enter string2\")#\"he\"\n",
    "print('Method1-using count()')\n",
    "print(s1.count(s2))\n",
    "print('method-2 using coding without using count()')\n",
    "l1=len(s1)\n",
    "l2=len(s2)\n",
    "k=0\n",
    "for i in range(l1):\n",
    "    #print('in the loop',i,s1[i:l2+i])\n",
    "    if s1[i:l2+i]==s2:#every time a substring of length s2 is fetched and checked if same as s2\n",
    "        k=k+1\n",
    "    \n",
    "print(k)\n"
   ]
  },
  {
   "cell_type": "code",
   "execution_count": 40,
   "metadata": {},
   "outputs": [
    {
     "name": "stdout",
     "output_type": "stream",
     "text": [
      "enter a stringChange the CASE\n",
      "method-1 using swapcase()\n",
      "cHANGE THE case\n",
      "method-2 without using function\n",
      "str1= Change the CASE\n",
      "str2= cHANGE THE case\n"
     ]
    }
   ],
   "source": [
    "str1=input(\"enter a string\")#\"ChEck\"\n",
    "print('method-1 using swapcase()')\n",
    "print(str1.swapcase())\n",
    "print('method-2 without using function')\n",
    "str2=\"\"\n",
    "for i in range(len(str1)):\n",
    "    if str1[i]>='A' and str1[i]<='Z':\n",
    "        str2=str2+chr(ord(str1[i])+32)\n",
    "    elif str1[i]>='a' and str1[i]<='z':\n",
    "        str2=str2+chr(ord(str1[i])-32)\n",
    "    else:\n",
    "        str2=str2+str1[i]\n",
    "print('str1=',str1)\n",
    "print('str2=',str2)"
   ]
  },
  {
   "cell_type": "code",
   "execution_count": 37,
   "metadata": {},
   "outputs": [
    {
     "data": {
      "text/plain": [
       "'d'"
      ]
     },
     "execution_count": 37,
     "metadata": {},
     "output_type": "execute_result"
    }
   ],
   "source": [
    "#to convert and print 'D' as 'd'\n",
    "chr(ord('D')+32)"
   ]
  },
  {
   "cell_type": "code",
   "execution_count": 34,
   "metadata": {},
   "outputs": [
    {
     "name": "stdout",
     "output_type": "stream",
     "text": [
      "enter a stringAll is well\n",
      "llA si llew "
     ]
    }
   ],
   "source": [
    "#reversing each word\n",
    "#INput: All is well - output : llA si llew\n",
    "s=input(\"enter a string\")#\n",
    "for i in s.split():\n",
    "    print(i[::-1],end=' ')"
   ]
  },
  {
   "cell_type": "code",
   "execution_count": 35,
   "metadata": {},
   "outputs": [
    {
     "name": "stdout",
     "output_type": "stream",
     "text": [
      "enter a string of words:tamil malayalam sir school madam\n",
      "malayalam\n",
      "madam\n"
     ]
    }
   ],
   "source": [
    "#printing palindrome words\n",
    "#INput: All is well - output : llA si llew\n",
    "s=input(\"enter a string of words:\")\n",
    "for i in s.split():\n",
    "    if i==i[::-1]:\n",
    "        print(i)"
   ]
  },
  {
   "cell_type": "code",
   "execution_count": 36,
   "metadata": {},
   "outputs": [
    {
     "name": "stdout",
     "output_type": "stream",
     "text": [
      "enter a string:all is well\n",
      "no of spaces= 2\n",
      "no of words= 3\n"
     ]
    }
   ],
   "source": [
    "#no of  spaces and words present  in a given string\n",
    "s=input(\"enter a string:\")\n",
    "s1=s.split()\n",
    "print('no of spaces=',len(s.split())-1)\n",
    "print('no of words=',len(s.split()))"
   ]
  },
  {
   "cell_type": "code",
   "execution_count": 25,
   "metadata": {},
   "outputs": [
    {
     "name": "stdout",
     "output_type": "stream",
     "text": [
      "enter a character: R\n",
      "r\n"
     ]
    }
   ],
   "source": [
    "#to accept a single character and change its case\n",
    "s=input('enter a character: ')\n",
    "#print(ord(s))\n",
    "s1=ord(s[0])#ascii value of E\n",
    "if s[0]>='A' and s[0]<='Z':\n",
    "    print(chr(s1+32))\n",
    "elif  s>='a' and s<='z':\n",
    "    print(chr(s1-32))    "
   ]
  },
  {
   "cell_type": "code",
   "execution_count": 22,
   "metadata": {},
   "outputs": [
    {
     "name": "stdout",
     "output_type": "stream",
     "text": [
      "enter a char:T\n",
      "t\n"
     ]
    }
   ],
   "source": [
    "#to accept a single character and change its case\n",
    "s=input(\"enter a char:\")\n",
    "for i in range(len(s)):\n",
    "    asc=ord(s[i])\n",
    "    if asc>=65 and asc<=90:\n",
    "        print(chr(asc+32))\n",
    "    elif asc>=97 and asc<=122:\n",
    "         print(chr(asc-32))\n",
    "#rat\n",
    "\n"
   ]
  },
  {
   "cell_type": "code",
   "execution_count": 20,
   "metadata": {},
   "outputs": [
    {
     "name": "stdout",
     "output_type": "stream",
     "text": [
      "no ofterms=4\n",
      "44\n",
      "using a while loop\n",
      "44\n"
     ]
    }
   ],
   "source": [
    "#5+9+13+17+...\n",
    "n=int(input(\"no ofterms=\"))\n",
    "i=1\n",
    "s=0\n",
    "start=5\n",
    "while i<=n:\n",
    "    s=s+start\n",
    "    start=start+4\n",
    "    i=i+1\n",
    "print(s)\n",
    "print('using a while loop')\n",
    "s=0\n",
    "start=5\n",
    "for i in range(1,n+1):\n",
    "    s=s+start\n",
    "    start=start+4\n",
    "print(s)\n",
    "\n",
    "   \n",
    "    "
   ]
  },
  {
   "cell_type": "code",
   "execution_count": 19,
   "metadata": {},
   "outputs": [
    {
     "name": "stdout",
     "output_type": "stream",
     "text": [
      "no of terms=4\n",
      "120\n"
     ]
    }
   ],
   "source": [
    "#2^2+4^2+6^2+8^2+...\n",
    "n=int(input(\"no of terms=\"))\n",
    "i=2\n",
    "s=0\n",
    "while i<=2*n:\n",
    "   \n",
    "    p=i**2\n",
    "    s=s+p\n",
    "    \n",
    "    i=i+2\n",
    "print(s)"
   ]
  },
  {
   "cell_type": "code",
   "execution_count": 15,
   "metadata": {
    "scrolled": true
   },
   "outputs": [
    {
     "name": "stdout",
     "output_type": "stream",
     "text": [
      "n=12312\n",
      "21321\n",
      "12312  is  not a nubmer palidnrome\n"
     ]
    }
   ],
   "source": [
    "n=int(input(\"n=\"))#12321\n",
    "n1=n\n",
    "rn=0\n",
    "while n1>0:\n",
    "    d=n1%10\n",
    "    rn=rn*10+d\n",
    "    n1=n1//10\n",
    "print(rn)\n",
    "if n==rn:\n",
    "    print(n,' is  a nubmer palidnrome')\n",
    "else:\n",
    "    print(n,' is  not a nubmer palidnrome')\n",
    "    \n",
    "    "
   ]
  },
  {
   "cell_type": "code",
   "execution_count": 4,
   "metadata": {},
   "outputs": [
    {
     "name": "stdout",
     "output_type": "stream",
     "text": [
      "enter the text:class 11, 2020-21\n",
      "total no. of characters= 17\n",
      "total no. of sapcess= 2\n",
      "total no. of alphabets= 5\n",
      "total no. of digits= 8\n",
      "total no. of specials chars= 2\n",
      "total no. of words= 3\n"
     ]
    }
   ],
   "source": [
    "'''practice prog 1\n",
    "Write a program to input line(s) of text from the user\n",
    "until enter is pressed. Count the total number of\n",
    "characters in the text (including white spaces),total\n",
    "number of alphabets, total number of digits, total\n",
    "number of special symbols and total number of\n",
    "words in the given text. (Assume that each word is\n",
    "separated by one space).\n",
    "'''\n",
    "chars=spaces=alphas=digits=specs=words=0\n",
    "s=input(\"enter the text:\")\n",
    "for i in s:\n",
    "    chars=chars+1\n",
    "    if i.isspace():\n",
    "        spaces=spaces+1\n",
    "    elif i.isalpha():\n",
    "        alphas=alphas+1\n",
    "    elif i.isdigit():\n",
    "        digits=digits+1\n",
    "    else:\n",
    "        specs=specs+1\n",
    "words=spaces+1\n",
    "print('total no. of characters=',chars)\n",
    "print('total no. of sapcess=',spaces)\n",
    "print('total no. of alphabets=',alphas)\n",
    "print('total no. of digits=',digits)\n",
    "print('total no. of specials chars=',specs)\n",
    "print('total no. of words=',words)   \n"
   ]
  },
  {
   "cell_type": "code",
   "execution_count": 5,
   "metadata": {},
   "outputs": [
    {
     "name": "stdout",
     "output_type": "stream",
     "text": [
      "enter a string:write a program\n",
      "method1-using title()\n",
      "Write A Program\n",
      "method-2 using a for loop\n",
      "Write A Program "
     ]
    }
   ],
   "source": [
    "'''practice prog 2\n",
    "Write a program to convert a string\n",
    "with more than one word into title case  (Title case means\n",
    "that the first letter of each word is capitalised)\n",
    "'''\n",
    "s1=input(\"enter a string:\")#\"how are you\"\n",
    "s2=\"\"\n",
    "print('method1-using title()')\n",
    "words=len(s1.split())\n",
    "if words>1:\n",
    "    print(s1.title())\n",
    "else:\n",
    "    print(s1)    \n",
    "    \n",
    "print('method-2 using a for loop')\n",
    "if words>1:\n",
    "    for i in s1.split():\n",
    "        print(i[0].upper()+i[1:].lower(),end=' ')\n",
    "else:\n",
    "    print(s1) \n",
    "    \n"
   ]
  },
  {
   "cell_type": "code",
   "execution_count": 7,
   "metadata": {},
   "outputs": [
    {
     "name": "stdout",
     "output_type": "stream",
     "text": [
      "enter  a string:python prog\n",
      "enter a char to be removed:o\n",
      "method-1- by using repalce()\n",
      "pythn prg\n",
      "method-2 using a for loop\n",
      "pythn prg\n"
     ]
    }
   ],
   "source": [
    "'''practice prog 3\n",
    "Write a program to  delete a character from a string at all occurences'\n",
    "'''\n",
    "s1=input(\"enter  a string:\")#\"Python Program\"\n",
    "s2=input('enter a char to be removed:')#o\n",
    "print('method-1- by using repalce()')\n",
    "print(s1.replace(s2,''))\n",
    "print('method-2 using a for loop')\n",
    "s3=\"\"\n",
    "for i in s1:\n",
    "    if i!=s2:\n",
    "           s3=s3+i\n",
    "print(s3)"
   ]
  },
  {
   "cell_type": "code",
   "execution_count": 8,
   "metadata": {},
   "outputs": [
    {
     "name": "stdout",
     "output_type": "stream",
     "text": [
      "enter a string:class 11, 2020-21\n",
      "sum of digits present in class 11, 2020-21 = 9\n"
     ]
    }
   ],
   "source": [
    "'''practice prog 4\n",
    "Input a string having some digits. Write a program\n",
    "to find the sum of digits present in this string.\n",
    "'''\n",
    "s=input(\"enter a string:\")\n",
    "sum=0\n",
    "for i in range(len(s)):\n",
    "    if s[i].isdigit():\n",
    "        sum=sum+int(s[i])\n",
    "print('sum of digits present in',s,'=',sum)\n"
   ]
  },
  {
   "cell_type": "code",
   "execution_count": null,
   "metadata": {},
   "outputs": [],
   "source": []
  },
  {
   "cell_type": "code",
   "execution_count": 9,
   "metadata": {},
   "outputs": [
    {
     "name": "stdout",
     "output_type": "stream",
     "text": [
      "enter a string:Have a nice day\n",
      "method-1:\n",
      "Have-a-nice-day\n",
      "method-2:\n",
      "Have-a-nice-day\n",
      "method-3:\n",
      "Have-a-nice-day\n"
     ]
    }
   ],
   "source": [
    "'''practice prog 5\n",
    "Write a program  that accepts a sentence as an input\n",
    "where each word in the sentence is\n",
    "separated by a space. The program should replace\n",
    "each blank with a hyphen and then print the\n",
    "modified sentence.\n",
    "'''\n",
    "s=input(\"enter a string:\")#\"Have a nice day\"\n",
    "#method1\n",
    "print('method-1:')\n",
    "print(s.replace(' ','-'))\n",
    "\n",
    "#method2\n",
    "print('method-2:')\n",
    "s1=\"\"\n",
    "for i in range(len(s)):# i- int- 0 to len-1\n",
    "    if s[i]==' ':\n",
    "        s1=s1+'-'\n",
    "    else:\n",
    "        s1=s1+s[i]\n",
    "print(s1)\n",
    "\n",
    "#method3\n",
    "print('method-3:')\n",
    "s1=\"\"\n",
    "for i in s:# i stores a char \n",
    "    if i ==' ':\n",
    "        s1=s1+'-'\n",
    "    else:\n",
    "        s1=s1+i\n",
    "print(s1)"
   ]
  },
  {
   "cell_type": "code",
   "execution_count": null,
   "metadata": {},
   "outputs": [],
   "source": [
    "mySubject = \"Computer Science\" #16\n",
    "#  0    1    2   3   4   5   6   7   8   9   10   11   12   13   14  15\n",
    "#  C    o    m   p   u   t   e   r       S    c   i    e     n    c   e\n",
    "# -16 -15  -14 -13 -12  -11 -10  -9  -8  -7   -6  -5   -4   -3   -2  -1\n",
    "print(mySubject[0:len(mySubject)]) # 0 to 15 - Computer Science      \n",
    "print(mySubject[-7:-1])           #-7 to -2 - Scienc             \n",
    "print(mySubject[::2])             # beginnning to end every alternate char- Cmue cec     \n",
    "print(mySubject[len(mySubject)-1]) #  e   -char at index 15\n",
    "print(2*mySubject)                 # Computer ScienceComputer Science  - replication - 2 times            \n",
    "print(mySubject[::-2])              #eniSrtpo - every alternate character from end to beg-          \n",
    "print(mySubject[:3] + mySubject[3:]) #  0 to 2+ 3 till end-full string- Computer Science\n",
    "print(mySubject.swapcase())          # char will convert to lower if  in upper otherwise upper to lower-cOMPUTER sCIENCE\n",
    "print(mySubject.startswith('Comp'))  # True   \n",
    "print(mySubject.isalpha())           #False- as space is present in the string\n",
    "             "
   ]
  },
  {
   "cell_type": "code",
   "execution_count": null,
   "metadata": {},
   "outputs": [],
   "source": [
    "myAddress = \"WZ-1     ,New    Ganga Nagar,New Delhi\"\n",
    "print(myAddress.lower())# all lower case alphabets\n",
    "print(myAddress.upper()) # all upper case alphabets\n",
    "print(myAddress.count('New'))#2\n",
    "print(myAddress.find('New'))#5\n",
    "print(myAddress.rfind('New')) #21-first finding from right end of the string\n",
    "print(myAddress.split(',')) #3 splits\n",
    "print(myAddress.split())# 4splits\n",
    "print(myAddress.replace('New','Old'))\n",
    "print(myAddress.partition(','))\n",
    "#print(myAddress.index('Agra'))#will throw error becuase 'Agra' is not present in given string"
   ]
  },
  {
   "cell_type": "code",
   "execution_count": null,
   "metadata": {},
   "outputs": [],
   "source": []
  }
 ],
 "metadata": {
  "kernelspec": {
   "display_name": "Python 3",
   "language": "python",
   "name": "python3"
  },
  "language_info": {
   "codemirror_mode": {
    "name": "ipython",
    "version": 3
   },
   "file_extension": ".py",
   "mimetype": "text/x-python",
   "name": "python",
   "nbconvert_exporter": "python",
   "pygments_lexer": "ipython3",
   "version": "3.7.6"
  }
 },
 "nbformat": 4,
 "nbformat_minor": 4
}
